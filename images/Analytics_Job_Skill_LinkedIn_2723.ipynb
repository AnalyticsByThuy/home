{
 "cells": [
  {
   "cell_type": "markdown",
   "id": "93863b43-c053-442c-b585-dbbf5154d1d4",
   "metadata": {
    "custom": {
     "narrow-border": {
      "box-shadow": "0 0 2px rgba(0, 0, 0, 0.3)",
      "padding": "4px"
     }
    },
    "id": "93863b43-c053-442c-b585-dbbf5154d1d4",
    "tags": [
     "theme"
    ]
   },
   "source": [
    "<style>\n",
    "@keyframes colorChange {\n",
    "  0% { color: red; }\n",
    "  25% { color: blue; }\n",
    "  50% { color: green; }\n",
    "  75% { color: orange; }\n",
    "  100% { color: purple; }\n",
    "}\n",
    "</style>\n",
    "\n",
    "<h1 style=\"animation: colorChange 5s infinite;\">Which Analytics Skills Are in High Demand Today?</h1>"
   ]
  },
  {
   "cell_type": "markdown",
   "id": "c00dcba3-b24d-4490-b598-6f3f2079d598",
   "metadata": {
    "id": "c00dcba3-b24d-4490-b598-6f3f2079d598"
   },
   "source": [
    "# <span style=\"text-transform:uppercase\">Web scraping</span>"
   ]
  },
  {
   "cell_type": "code",
   "execution_count": 1,
   "id": "ac0c19c9-7dd5-4021-8a6e-8c061f9c4bcf",
   "metadata": {
    "id": "ac0c19c9-7dd5-4021-8a6e-8c061f9c4bcf"
   },
   "outputs": [],
   "source": [
    "import requests\n",
    "import re\n",
    "import csv\n",
    "import time\n",
    "import datetime\n",
    "import pandas as pd\n",
    "import numpy as np\n",
    "import seaborn as sns\n",
    "from bs4 import BeautifulSoup\n",
    "from urllib.request import urlopen\n",
    "import matplotlib.pyplot as plt\n",
    "%matplotlib inline\n",
    "\n",
    "from IPython.core.interactiveshell import InteractiveShell\n",
    "InteractiveShell.ast_node_interactivity = \"all\"\n",
    "\n",
    "headers = {}"
   ]
  },
  {
   "cell_type": "code",
   "execution_count": null,
   "id": "05ed638c-8333-4c3f-ad73-3d5443e72644",
   "metadata": {
    "id": "05ed638c-8333-4c3f-ad73-3d5443e72644",
    "tags": []
   },
   "outputs": [],
   "source": [
    "skills = ['python', 'power bi', 'jupyter', 'sql', 'tableau', 'excel']\n",
    "base_url = 'https://www.linkedin.com/jobs/search/?keywords={}&location={}&start={}'\n",
    "keywords = ['data analyst', 'data scientist']\n",
    "desired_post = 200\n",
    "def check_job(location):\n",
    "    data = []\n",
    "    for keyword in keywords:\n",
    "        post_count = 0\n",
    "        start = 0\n",
    "        while post_count < desired_post:\n",
    "            url = base_url.format(keyword, location, start)\n",
    "            response = requests.get(url, headers=headers)\n",
    "            soup = BeautifulSoup(response.text, 'lxml')\n",
    "            job_cards = soup.select('div.base-card')\n",
    "            for card in job_cards:\n",
    "                position = card.find('span', class_='sr-only').text.strip()\n",
    "                job_url = card.find('a')['href']\n",
    "                # skills\n",
    "                job_r = requests.get(job_url, headers=headers).text\n",
    "                job_soup = BeautifulSoup(job_r, 'lxml')\n",
    "                ct = [i.text.strip() for i in job_soup.find_all('span', class_='description__job-criteria-text description__job-criteria-text--criteria')]\n",
    "                if ct:\n",
    "                    level = ct[0] if ct else None\n",
    "                    job_function = ct[2] if len(ct) > 2 else None\n",
    "                    industry = ct[3] if len(ct) > 3 else None\n",
    "                description_section = job_soup.find('section', class_='show-more-less-html')\n",
    "                skill_check = ', '.join([skill for skill in skills if description_section and skill in description_section.text.lower()])\n",
    "                logo = card.find('img')['data-delayed-url']\n",
    "                company = card.find('a', class_='hidden-nested-link').text.strip()\n",
    "                city = card.find('span', class_='job-search-card__location').text.strip()\n",
    "                area = location\n",
    "                status = card.find('span', class_='result-benefits__text').text.strip() if card.find('span', class_='result-benefits__text') else 'None'\n",
    "                ld = card.find('time')['datetime']\n",
    "                dd = card.find('time').text.strip()\n",
    "                role = keyword\n",
    "                data.append({'role': role, 'position': position,'job url': job_url,'Req. Skills': skill_check, 'company': company,'logo': logo,'city': city, 'area': area,'Level': level, 'Job Function':job_function, 'Industry':industry,'list_date': ld,'diff_date': dd,'status': status})\n",
    "                post_count += 1\n",
    "                if post_count >= desired_post:\n",
    "                    break\n",
    "            start += 25\n",
    "            time.sleep(2)\n",
    "    return pd.DataFrame(data)\n",
    "\n",
    "dfs = pd.concat([check_job(location) for location in ['Vietnam', 'India']], ignore_index=True)"
   ]
  },
  {
   "cell_type": "markdown",
   "id": "2a7e2c95-e800-4fc1-82ea-66c49abf2431",
   "metadata": {
    "id": "2a7e2c95-e800-4fc1-82ea-66c49abf2431"
   },
   "source": [
    "## Data Cleaning"
   ]
  },
  {
   "cell_type": "code",
   "execution_count": null,
   "id": "78fe941b-6abb-4cbf-87c6-6bcf2f8affe3",
   "metadata": {
    "id": "78fe941b-6abb-4cbf-87c6-6bcf2f8affe3"
   },
   "outputs": [],
   "source": [
    "dfs.drop_duplicates(subset=['job url'], keep='first')\n",
    "dfs.fillna('Not Specified')\n",
    "dfs = dfs.replace('None', 'Not Specified')\n",
    "dfs.reset_index(drop=True)"
   ]
  },
  {
   "cell_type": "markdown",
   "id": "93b3528c-2fb3-400d-a71e-bd2832602063",
   "metadata": {
    "id": "93b3528c-2fb3-400d-a71e-bd2832602063"
   },
   "source": [
    "## Save CSV file"
   ]
  },
  {
   "cell_type": "code",
   "execution_count": 2,
   "id": "18be1b24-f398-4e05-b133-e526981a5168",
   "metadata": {
    "id": "18be1b24-f398-4e05-b133-e526981a5168"
   },
   "outputs": [],
   "source": [
    "#today = datetime.date.today()\n",
    "#filename = f'analytics_linkedin_{today}.csv'\n",
    "#dfs.to_csv(filename, index=False)\n",
    "dfs = pd.read_csv('analytics_linkedin_2023-07-02.csv')"
   ]
  },
  {
   "cell_type": "markdown",
   "id": "84769726-7afb-48f8-aa80-fb7ac36a8c26",
   "metadata": {
    "height": "300px",
    "id": "84769726-7afb-48f8-aa80-fb7ac36a8c26",
    "tags": []
   },
   "source": [
    "# <span style=\"text-transform:uppercase\">Data Visualization</span>"
   ]
  },
  {
   "cell_type": "markdown",
   "id": "b5117eef-94f3-4cd0-a8f8-e031e1445303",
   "metadata": {
    "id": "b5117eef-94f3-4cd0-a8f8-e031e1445303"
   },
   "source": [
    "## Prep."
   ]
  },
  {
   "cell_type": "code",
   "execution_count": null,
   "id": "6af6021e-5236-4c25-af28-9a63cebf9fb6",
   "metadata": {
    "colab": {
     "base_uri": "https://localhost:8080/"
    },
    "id": "6af6021e-5236-4c25-af28-9a63cebf9fb6",
    "outputId": "76fc592b-c5b2-4b06-ccce-5e5d83c7df51",
    "scrolled": true,
    "tags": []
   },
   "outputs": [],
   "source": [
    "!pip install pandasql\n",
    "!pip install --upgrade sqlalchemy==1.4.46\n",
    "from pandasql import sqldf\n",
    "from IPython.display import display, HTML\n",
    "import plotly.graph_objs as go\n",
    "from plotly.subplots import make_subplots\n",
    "import ipywidgets as widgets\n",
    "from IPython.core.interactiveshell import InteractiveShell\n",
    "import sqlite3"
   ]
  },
  {
   "cell_type": "markdown",
   "id": "d3a0fa18-eccd-4667-ab06-c1d7f0092105",
   "metadata": {
    "id": "d3a0fa18-eccd-4667-ab06-c1d7f0092105"
   },
   "source": [
    "## Dataset"
   ]
  },
  {
   "cell_type": "code",
   "execution_count": 4,
   "id": "3ae1aaf9-1ac0-4745-a3e1-b32ca5ae96b4",
   "metadata": {
    "id": "3ae1aaf9-1ac0-4745-a3e1-b32ca5ae96b4"
   },
   "outputs": [],
   "source": [
    "df_skill = pd.DataFrame()\n",
    "for skill in skills:\n",
    "    filtered_df_skill = sqldf(f\"SELECT [area], [role], [Level], [position],'{skill}' AS [skill] FROM dfs WHERE [Req. Skills] LIKE '%{skill}%'\", globals())\n",
    "    df_skill = pd.concat([df_skill, filtered_df_skill], ignore_index=True)\n",
    "    \n",
    "display_df = pd.DataFrame()\n",
    "display_df['position'] = dfs.apply(lambda row: f'<a href=\"{row[\"job url\"]}\" target=\"_blank\">{row[\"position\"]}</a>', axis=1)\n",
    "display_df['company'] = dfs.apply(lambda row: f'<div><img src=\"{row[\"logo\"]}\" style=\"max-height:30px;\"></div>{row[\"company\"]}', axis=1)\n",
    "display_df[['Job Function', 'Industry', 'city', 'area', 'Level', 'list_date', 'status','role']] = dfs[['Job Function', 'Industry', 'city', 'area', 'Level', 'list_date', 'status','role']]"
   ]
  },
  {
   "cell_type": "markdown",
   "id": "46341395-429e-4085-bbef-6f26ff4a5709",
   "metadata": {
    "id": "46341395-429e-4085-bbef-6f26ff4a5709"
   },
   "source": [
    "## Setting: Dropdown Widgets"
   ]
  },
  {
   "cell_type": "code",
   "execution_count": 5,
   "id": "c450f583-3836-414e-bfe6-4a6a7318fd0d",
   "metadata": {
    "id": "c450f583-3836-414e-bfe6-4a6a7318fd0d"
   },
   "outputs": [],
   "source": [
    "roles = list(set(dfs['role']))\n",
    "areas = list(set(dfs['area']))\n",
    "\n",
    "# Dropdown Widgets\n",
    "role_dropdown = widgets.Dropdown(options=['All'] + roles, value='All', description='Roles:')\n",
    "area_dropdown = widgets.Dropdown(options=['All'] + areas, value='All', description='Areas:')\n",
    "\n",
    "# Output Widgets\n",
    "table_output = widgets.Output()\n",
    "graph_output = widgets.Output()\n",
    "pie_output = widgets.Output()"
   ]
  },
  {
   "cell_type": "markdown",
   "id": "e7ff4273-985d-4c11-aca8-2e7576ad7272",
   "metadata": {
    "id": "e7ff4273-985d-4c11-aca8-2e7576ad7272"
   },
   "source": [
    "## Table (HTML)"
   ]
  },
  {
   "cell_type": "code",
   "execution_count": 6,
   "id": "06238f4d-b92a-4731-b7b9-756810d98183",
   "metadata": {
    "id": "06238f4d-b92a-4731-b7b9-756810d98183"
   },
   "outputs": [],
   "source": [
    "def update_output(selected_roles, selected_areas):\n",
    "    table_output.clear_output()\n",
    "    filtered_df = display_df[display_df['role'].isin(selected_roles) & display_df['area'].isin(selected_areas)]\n",
    "    styled_table = filtered_df.style.hide(axis=\"index\").set_table_attributes('class=\"dataframe table\"')\n",
    "    styled_table_html = styled_table.to_html()\n",
    "    table_with_scroll = f'<div style=\"overflow: auto; max-height: 400px; white-space: nowrap\">{styled_table_html}</div>'\n",
    "    with table_output:\n",
    "        display(HTML(table_with_scroll))"
   ]
  },
  {
   "cell_type": "markdown",
   "id": "a1a30e66-09dc-4da8-a67e-b102de79d761",
   "metadata": {
    "id": "a1a30e66-09dc-4da8-a67e-b102de79d761"
   },
   "source": [
    "## Bar Graph: Identify Valuable Skills for Each Role"
   ]
  },
  {
   "cell_type": "code",
   "execution_count": 7,
   "id": "62594fc9-cd2b-409c-bfaa-b0bdcb45f7ba",
   "metadata": {
    "id": "62594fc9-cd2b-409c-bfaa-b0bdcb45f7ba"
   },
   "outputs": [],
   "source": [
    "def update_graph(selected_roles, selected_areas):\n",
    "    graph_output.clear_output()\n",
    "    filtered_df = df_skill[df_skill['role'].isin(selected_roles) & df_skill['area'].isin(selected_areas)]\n",
    "    skill_role_counts = filtered_df.groupby(['skill', 'role']).size().reset_index(name='count')\n",
    "    data = []\n",
    "    for idx, role in enumerate(selected_roles):\n",
    "        role_counts = skill_role_counts[skill_role_counts['role'] == role]\n",
    "        trace = go.Bar(\n",
    "            x=role_counts['skill'],\n",
    "            y=role_counts['count'],\n",
    "            name=role,\n",
    "        )\n",
    "        data.append(trace)\n",
    "    layout = go.Layout(\n",
    "        barmode='stack',\n",
    "        title=dict(text='Skill-Role Relationship'),\n",
    "        xaxis=dict(title='Skill'),\n",
    "        yaxis=dict(title='Count'),\n",
    "    )\n",
    "    fig = go.Figure(data=data, layout=layout)\n",
    "    fig.update_layout(height=300)\n",
    "    with graph_output:\n",
    "        fig.show()"
   ]
  },
  {
   "cell_type": "markdown",
   "id": "deb073bc-2366-496b-a267-d5ee22a87bfc",
   "metadata": {
    "id": "deb073bc-2366-496b-a267-d5ee22a87bfc"
   },
   "source": [
    "## Pie Graph: Analyze In-Demand Skills"
   ]
  },
  {
   "cell_type": "code",
   "execution_count": 8,
   "id": "1ba0fdda-b516-4509-9d11-3be7d3a38dce",
   "metadata": {
    "id": "1ba0fdda-b516-4509-9d11-3be7d3a38dce"
   },
   "outputs": [],
   "source": [
    "def update_pie(selected_roles, selected_areas):\n",
    "    pie_output.clear_output()\n",
    "    filtered_df = df_skill[df_skill['role'].isin(selected_roles) & df_skill['area'].isin(selected_areas)]\n",
    "    skill_counts = filtered_df.groupby('skill')['position'].count()\n",
    "    labels = [f\"{skill} ({count})\" for skill, count in zip(skill_counts.index, skill_counts)]\n",
    "    explode = [0.1 if skill == skill_counts.index[0] else 0 for skill in skill_counts.index]\n",
    "    fig = go.Figure(data=[go.Pie(labels=labels, values=skill_counts, hole=0.5)])\n",
    "    fig.update_layout(title=dict(text='In-Demand Skills'),  height=300)\n",
    "    with pie_output:\n",
    "        fig.show()"
   ]
  },
  {
   "cell_type": "markdown",
   "id": "8a0eeace-6076-4d5d-adad-aa8bcc923cff",
   "metadata": {
    "id": "8a0eeace-6076-4d5d-adad-aa8bcc923cff"
   },
   "source": [
    "## Initial values"
   ]
  },
  {
   "cell_type": "code",
   "execution_count": 9,
   "id": "81d15ffc-9fd3-4255-8efe-838a27f68f3d",
   "metadata": {
    "id": "81d15ffc-9fd3-4255-8efe-838a27f68f3d"
   },
   "outputs": [],
   "source": [
    "selected_roles = roles\n",
    "selected_areas = areas"
   ]
  },
  {
   "cell_type": "markdown",
   "id": "a4f31a4e-57dd-448c-bab1-26d8b2f5df96",
   "metadata": {
    "id": "a4f31a4e-57dd-448c-bab1-26d8b2f5df96"
   },
   "source": [
    "## Dropdown Update"
   ]
  },
  {
   "cell_type": "code",
   "execution_count": 10,
   "id": "fec59ca7-d96c-4015-a52f-6ddf85c61263",
   "metadata": {
    "id": "fec59ca7-d96c-4015-a52f-6ddf85c61263"
   },
   "outputs": [],
   "source": [
    "def dropdowns_observer(*args):\n",
    "    selected_roles = [role_dropdown.value] if role_dropdown.value != 'All' else roles\n",
    "    selected_areas = [area_dropdown.value] if area_dropdown.value != 'All' else areas\n",
    "    update_output(selected_roles, selected_areas)\n",
    "    update_graph(selected_roles, selected_areas)\n",
    "    update_pie(selected_roles, selected_areas)\n",
    "\n",
    "# Observe the dropdowns' values\n",
    "role_dropdown.observe(dropdowns_observer, 'value')\n",
    "area_dropdown.observe(dropdowns_observer, 'value')\n",
    "\n",
    "# Initial update of the output and graph\n",
    "update_output(selected_roles, selected_areas)\n",
    "update_graph(selected_roles, selected_areas)\n",
    "update_pie(selected_roles, selected_areas)"
   ]
  },
  {
   "cell_type": "markdown",
   "id": "7c567c8a-f2f4-4b23-ae17-5fec17db9610",
   "metadata": {
    "id": "7c567c8a-f2f4-4b23-ae17-5fec17db9610"
   },
   "source": [
    "## Creating Layout"
   ]
  },
  {
   "cell_type": "code",
   "execution_count": 11,
   "id": "28de8c0b-fa61-4c78-afb8-453e7234cfcd",
   "metadata": {
    "id": "28de8c0b-fa61-4c78-afb8-453e7234cfcd"
   },
   "outputs": [],
   "source": [
    "grid = widgets.GridspecLayout(2, 2, height='780px', width='1005', layout=widgets.Layout(align_items=\"center\"))\n",
    "grid[0, 0] = pie_output\n",
    "grid[0, 1] = graph_output\n",
    "grid[1, 0:2] = table_output"
   ]
  },
  {
   "cell_type": "markdown",
   "id": "a788fd01-ee0a-47f0-97dd-bb23b374dab3",
   "metadata": {
    "id": "a788fd01-ee0a-47f0-97dd-bb23b374dab3"
   },
   "source": [
    "## Creating Dashboard"
   ]
  },
  {
   "cell_type": "code",
   "execution_count": null,
   "id": "d9db5f80-8c03-4cf1-b6d8-86d0d41a11d7",
   "metadata": {
    "colab": {
     "base_uri": "https://localhost:8080/",
     "height": 182
    },
    "id": "d9db5f80-8c03-4cf1-b6d8-86d0d41a11d7",
    "outputId": "908bb000-5a35-475e-a271-f8357693e387"
   },
   "outputs": [],
   "source": [
    "dashboard_container = widgets.VBox([grid], layout=widgets.Layout(align_items=\"center\"))\n",
    "widgets.VBox([widgets.HBox([role_dropdown, area_dropdown]), dashboard_container])"
   ]
  }
 ],
 "metadata": {
  "body": {
   "background-color": "#f6f8fa"
  },
  "codeCellConfig": {
   "codeMirrorOptions": {
    "theme": "monokai"
   },
   "styles": {
    "backgroundColor": "#f8f8f8",
    "borderRadius": "4px",
    "boxShadow": "none",
    "fontFamily": "Arial, sans-serif",
    "fontSize": "14px",
    "lineHeight": "1.4"
   }
  },
  "colab": {
   "provenance": [],
   "toc_visible": true
  },
  "editorSyntaxTheme": "ipython",
  "editorTheme": "JupyterLab Dark",
  "kernelspec": {
   "display_name": "Python 3 (ipykernel)",
   "language": "python",
   "name": "python3"
  },
  "language_info": {
   "codemirror_mode": {
    "name": "ipython",
    "version": 3
   },
   "file_extension": ".py",
   "mimetype": "text/x-python",
   "name": "python",
   "nbconvert_exporter": "python",
   "pygments_lexer": "ipython3",
   "version": "3.10.9"
  },
  "markdownViewerConfig": {
   "styles": {
    "color": "#333",
    "fontFamily": "Arial, sans-serif",
    "fontSize": "16px",
    "lineHeight": "1.5"
   }
  },
  "metadata": {
   "height": "300px",
   "scrolled": true
  }
 },
 "nbformat": 4,
 "nbformat_minor": 5
}
